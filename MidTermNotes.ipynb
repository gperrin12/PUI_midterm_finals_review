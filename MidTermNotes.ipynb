{
 "cells": [
  {
   "cell_type": "code",
   "execution_count": 38,
   "metadata": {
    "collapsed": false
   },
   "outputs": [
    {
     "name": "stdout",
     "output_type": "stream",
     "text": [
      "Populating the interactive namespace from numpy and matplotlib\n"
     ]
    }
   ],
   "source": [
    "import os\n",
    "import sys\n",
    "import numpy as np\n",
    "import pandas as pd\n",
    "import statsmodels.api as sm\n",
    "import statsmodels.formula.api as smf\n",
    "import scipy.stats as stats\n",
    "import json\n",
    "from __future__ import division, print_function\n",
    "from getCitiBikeCSV import getCitiBikeCSV\n",
    "\n",
    "import scipy.stats\n",
    "\n",
    "\n",
    "import pylab as pl\n",
    "import seaborn\n",
    "%pylab inline\n",
    "\n",
    "np.seed = 999"
   ]
  },
  {
   "cell_type": "markdown",
   "metadata": {},
   "source": [
    "# “What Is Science”"
   ]
  },
  {
   "cell_type": "markdown",
   "metadata": {},
   "source": [
    "### epistemology - the study of “what is science”\n",
    "\n",
    "### reproduceability\n",
    "Why is reproducibility important? A: enables independent verification of science inference\n",
    "\n",
    "### falsifiability\n",
    "What’s the defining characteristic of scientific theory? A: FALSIFIABILITY example: why is astrology not a theory? not falsifiable - you cannot conceive of an observation or an argument which negates the concept of astrology and that stars influence events\n",
    "https://en.wikipedia.org/wiki/Falsifiability\n",
    "\n",
    "\n",
    "![1](Screen Shot 2016-10-20 at 11.15.03 AM.png)\n",
    "\n",
    "Name at least one type of data-science analysis? A: Descriptive, Exploratory, Inferential, Predictive, Causal, Mechanistic"
   ]
  },
  {
   "cell_type": "markdown",
   "metadata": {},
   "source": [
    "### precision vs accuracy"
   ]
  },
  {
   "cell_type": "markdown",
   "metadata": {},
   "source": [
    "# Types of Errors\n",
    "### Statistical \n",
    "### Systematic"
   ]
  },
  {
   "cell_type": "markdown",
   "metadata": {},
   "source": [
    "# Data Munging"
   ]
  },
  {
   "cell_type": "markdown",
   "metadata": {},
   "source": [
    "### Using an API "
   ]
  },
  {
   "cell_type": "code",
   "execution_count": null,
   "metadata": {
    "collapsed": false
   },
   "outputs": [],
   "source": [
    "print(os.getenv(\"MTAKEY\"))\n",
    "\n",
    "def getMtaData(busline, mtakey = str(os.getenv(\"MTAKEY\")), output = 'bus.json'):\n",
    "\tapi = 'http://bustime.mta.info/api/siri/vehicle-monitoring.json?key=' + mtakey + \\\n",
    "    '&VehicleMonitoringDetailLevel=calls&LineRef='+ busline\n",
    "    \n",
    "    \n",
    "def get_jsonparsed_data(url):\n",
    "    \t\"\"\"\n",
    "    \tfrom http://stackoverflow.com/questions/12965203/how-to-get-json-from-webpage-into-python-script\n",
    "    \tReceive the content of ``url``, parse it as JSON and return the object.\n",
    "\n",
    "\t\tParameters\n",
    "        ----------\n",
    "    \turl : str\n",
    "\n",
    "\t\tReturns\n",
    "    \t-------\n",
    "    \tdict\n",
    "    \t\"\"\"\n",
    "\n",
    "\tresponse = urllib.urlopen(url)\n",
    "\tdata = response.read().decode(\"utf-8\")\n",
    "\treturn json.loads(data)\n",
    "\n",
    "jsonData = get_jsonparsed_data(api)\n",
    "\n",
    "with open(output, 'w') as outfile:\n",
    "\tjson.dump(jsonData, outfile)     "
   ]
  },
  {
   "cell_type": "markdown",
   "metadata": {
    "collapsed": true
   },
   "source": [
    "### example of reading in json file"
   ]
  },
  {
   "cell_type": "code",
   "execution_count": null,
   "metadata": {
    "collapsed": true
   },
   "outputs": [],
   "source": []
  },
  {
   "cell_type": "markdown",
   "metadata": {},
   "source": [
    "### example of reading in csv"
   ]
  },
  {
   "cell_type": "code",
   "execution_count": 12,
   "metadata": {
    "collapsed": true
   },
   "outputs": [],
   "source": [
    "data_NYC_housing = pd.read_csv(\"DOF__Condominium_Comparable_Rental_Income__Manhattan___FY_2008_2009.csv\")"
   ]
  },
  {
   "cell_type": "code",
   "execution_count": 14,
   "metadata": {
    "collapsed": false
   },
   "outputs": [
    {
     "data": {
      "text/html": [
       "<div>\n",
       "<table border=\"1\" class=\"dataframe\">\n",
       "  <thead>\n",
       "    <tr style=\"text-align: right;\">\n",
       "      <th></th>\n",
       "      <th>total_units</th>\n",
       "      <th>gross_area</th>\n",
       "      <th>gross_income</th>\n",
       "      <th>gross_income_per_area</th>\n",
       "    </tr>\n",
       "  </thead>\n",
       "  <tbody>\n",
       "    <tr>\n",
       "      <th>0</th>\n",
       "      <td>42</td>\n",
       "      <td>36500</td>\n",
       "      <td>994000</td>\n",
       "      <td>27.2</td>\n",
       "    </tr>\n",
       "    <tr>\n",
       "      <th>1</th>\n",
       "      <td>500</td>\n",
       "      <td>554174</td>\n",
       "      <td>17000000</td>\n",
       "      <td>30.7</td>\n",
       "    </tr>\n",
       "    <tr>\n",
       "      <th>2</th>\n",
       "      <td>282</td>\n",
       "      <td>249076</td>\n",
       "      <td>9500000</td>\n",
       "      <td>38.1</td>\n",
       "    </tr>\n",
       "    <tr>\n",
       "      <th>3</th>\n",
       "      <td>239</td>\n",
       "      <td>219495</td>\n",
       "      <td>7600000</td>\n",
       "      <td>34.6</td>\n",
       "    </tr>\n",
       "    <tr>\n",
       "      <th>4</th>\n",
       "      <td>133</td>\n",
       "      <td>139719</td>\n",
       "      <td>4830000</td>\n",
       "      <td>34.6</td>\n",
       "    </tr>\n",
       "  </tbody>\n",
       "</table>\n",
       "</div>"
      ],
      "text/plain": [
       "   total_units  gross_area  gross_income  gross_income_per_area\n",
       "0           42       36500        994000                   27.2\n",
       "1          500      554174      17000000                   30.7\n",
       "2          282      249076       9500000                   38.1\n",
       "3          239      219495       7600000                   34.6\n",
       "4          133      139719       4830000                   34.6"
      ]
     },
     "execution_count": 14,
     "metadata": {},
     "output_type": "execute_result"
    }
   ],
   "source": [
    "data_small = data_NYC_housing[[\"MANHATTAN CONDOMINIUM PROPERTY Total Units\", \\\n",
    "                           \"MANHATTAN CONDOMINIUM PROPERTY Gross SqFt\", \\\n",
    "                          \"MANHATTAN CONDOMINIUM PROPERTY Est. Gross Income\", \\\n",
    "                          \"MANHATTAN CONDOMINIUM PROPERTY Gross Income per SqFt\"]]\n",
    "data_small.columns = ['total_units', 'gross_area', 'gross_income', 'gross_income_per_area'] \n",
    "data_small.head()"
   ]
  },
  {
   "cell_type": "markdown",
   "metadata": {},
   "source": [
    "## example of selecting rows in panda dataframe"
   ]
  },
  {
   "cell_type": "code",
   "execution_count": 18,
   "metadata": {
    "collapsed": false
   },
   "outputs": [
    {
     "data": {
      "text/html": [
       "<div>\n",
       "<table border=\"1\" class=\"dataframe\">\n",
       "  <thead>\n",
       "    <tr style=\"text-align: right;\">\n",
       "      <th></th>\n",
       "      <th>total_units</th>\n",
       "      <th>gross_area</th>\n",
       "      <th>gross_income</th>\n",
       "      <th>gross_income_per_area</th>\n",
       "    </tr>\n",
       "  </thead>\n",
       "  <tbody>\n",
       "    <tr>\n",
       "      <th>10</th>\n",
       "      <td>546</td>\n",
       "      <td>586224</td>\n",
       "      <td>23000000</td>\n",
       "      <td>39.2</td>\n",
       "    </tr>\n",
       "    <tr>\n",
       "      <th>321</th>\n",
       "      <td>713</td>\n",
       "      <td>616965</td>\n",
       "      <td>19126000</td>\n",
       "      <td>31.0</td>\n",
       "    </tr>\n",
       "    <tr>\n",
       "      <th>421</th>\n",
       "      <td>645</td>\n",
       "      <td>575077</td>\n",
       "      <td>23003000</td>\n",
       "      <td>40.0</td>\n",
       "    </tr>\n",
       "    <tr>\n",
       "      <th>455</th>\n",
       "      <td>1121</td>\n",
       "      <td>1171064</td>\n",
       "      <td>29276600</td>\n",
       "      <td>25.0</td>\n",
       "    </tr>\n",
       "    <tr>\n",
       "      <th>457</th>\n",
       "      <td>818</td>\n",
       "      <td>842317</td>\n",
       "      <td>32850000</td>\n",
       "      <td>39.0</td>\n",
       "    </tr>\n",
       "  </tbody>\n",
       "</table>\n",
       "</div>"
      ],
      "text/plain": [
       "     total_units  gross_area  gross_income  gross_income_per_area\n",
       "10           546      586224      23000000                   39.2\n",
       "321          713      616965      19126000                   31.0\n",
       "421          645      575077      23003000                   40.0\n",
       "455         1121     1171064      29276600                   25.0\n",
       "457          818      842317      32850000                   39.0"
      ]
     },
     "execution_count": 18,
     "metadata": {},
     "output_type": "execute_result"
    }
   ],
   "source": [
    "data1 = data_small.loc[(data_small.total_units > 500)]\n",
    "data1.head()"
   ]
  },
  {
   "cell_type": "markdown",
   "metadata": {},
   "source": [
    "### example of adding / dropping columns in panda dataframe"
   ]
  },
  {
   "cell_type": "code",
   "execution_count": 19,
   "metadata": {
    "collapsed": false
   },
   "outputs": [
    {
     "data": {
      "text/html": [
       "<div>\n",
       "<table border=\"1\" class=\"dataframe\">\n",
       "  <thead>\n",
       "    <tr style=\"text-align: right;\">\n",
       "      <th></th>\n",
       "      <th>gross_area</th>\n",
       "      <th>gross_income</th>\n",
       "    </tr>\n",
       "  </thead>\n",
       "  <tbody>\n",
       "    <tr>\n",
       "      <th>10</th>\n",
       "      <td>586224</td>\n",
       "      <td>23000000</td>\n",
       "    </tr>\n",
       "    <tr>\n",
       "      <th>321</th>\n",
       "      <td>616965</td>\n",
       "      <td>19126000</td>\n",
       "    </tr>\n",
       "    <tr>\n",
       "      <th>421</th>\n",
       "      <td>575077</td>\n",
       "      <td>23003000</td>\n",
       "    </tr>\n",
       "    <tr>\n",
       "      <th>455</th>\n",
       "      <td>1171064</td>\n",
       "      <td>29276600</td>\n",
       "    </tr>\n",
       "    <tr>\n",
       "      <th>457</th>\n",
       "      <td>842317</td>\n",
       "      <td>32850000</td>\n",
       "    </tr>\n",
       "  </tbody>\n",
       "</table>\n",
       "</div>"
      ],
      "text/plain": [
       "     gross_area  gross_income\n",
       "10       586224      23000000\n",
       "321      616965      19126000\n",
       "421      575077      23003000\n",
       "455     1171064      29276600\n",
       "457      842317      32850000"
      ]
     },
     "execution_count": 19,
     "metadata": {},
     "output_type": "execute_result"
    }
   ],
   "source": [
    "data2 = data1.iloc[:,1:3]\n",
    "data2.head()"
   ]
  },
  {
   "cell_type": "code",
   "execution_count": 20,
   "metadata": {
    "collapsed": false
   },
   "outputs": [
    {
     "data": {
      "text/html": [
       "<div>\n",
       "<table border=\"1\" class=\"dataframe\">\n",
       "  <thead>\n",
       "    <tr style=\"text-align: right;\">\n",
       "      <th></th>\n",
       "      <th>gross_area</th>\n",
       "      <th>gross_income_per_area</th>\n",
       "    </tr>\n",
       "  </thead>\n",
       "  <tbody>\n",
       "    <tr>\n",
       "      <th>10</th>\n",
       "      <td>586224</td>\n",
       "      <td>39.2</td>\n",
       "    </tr>\n",
       "    <tr>\n",
       "      <th>321</th>\n",
       "      <td>616965</td>\n",
       "      <td>31.0</td>\n",
       "    </tr>\n",
       "    <tr>\n",
       "      <th>421</th>\n",
       "      <td>575077</td>\n",
       "      <td>40.0</td>\n",
       "    </tr>\n",
       "    <tr>\n",
       "      <th>455</th>\n",
       "      <td>1171064</td>\n",
       "      <td>25.0</td>\n",
       "    </tr>\n",
       "    <tr>\n",
       "      <th>457</th>\n",
       "      <td>842317</td>\n",
       "      <td>39.0</td>\n",
       "    </tr>\n",
       "  </tbody>\n",
       "</table>\n",
       "</div>"
      ],
      "text/plain": [
       "     gross_area  gross_income_per_area\n",
       "10       586224                   39.2\n",
       "321      616965                   31.0\n",
       "421      575077                   40.0\n",
       "455     1171064                   25.0\n",
       "457      842317                   39.0"
      ]
     },
     "execution_count": 20,
     "metadata": {},
     "output_type": "execute_result"
    }
   ],
   "source": [
    "data3 = data1[['gross_area', 'gross_income_per_area']]\n",
    "data3.head()"
   ]
  },
  {
   "cell_type": "code",
   "execution_count": 21,
   "metadata": {
    "collapsed": false
   },
   "outputs": [
    {
     "data": {
      "text/html": [
       "<div>\n",
       "<table border=\"1\" class=\"dataframe\">\n",
       "  <thead>\n",
       "    <tr style=\"text-align: right;\">\n",
       "      <th></th>\n",
       "      <th>column_2</th>\n",
       "      <th>column_3</th>\n",
       "    </tr>\n",
       "  </thead>\n",
       "  <tbody>\n",
       "    <tr>\n",
       "      <th>10</th>\n",
       "      <td>586224</td>\n",
       "      <td>39.2</td>\n",
       "    </tr>\n",
       "    <tr>\n",
       "      <th>321</th>\n",
       "      <td>616965</td>\n",
       "      <td>31.0</td>\n",
       "    </tr>\n",
       "    <tr>\n",
       "      <th>421</th>\n",
       "      <td>575077</td>\n",
       "      <td>40.0</td>\n",
       "    </tr>\n",
       "    <tr>\n",
       "      <th>455</th>\n",
       "      <td>1171064</td>\n",
       "      <td>25.0</td>\n",
       "    </tr>\n",
       "    <tr>\n",
       "      <th>457</th>\n",
       "      <td>842317</td>\n",
       "      <td>39.0</td>\n",
       "    </tr>\n",
       "  </tbody>\n",
       "</table>\n",
       "</div>"
      ],
      "text/plain": [
       "     column_2  column_3\n",
       "10     586224      39.2\n",
       "321    616965      31.0\n",
       "421    575077      40.0\n",
       "455   1171064      25.0\n",
       "457    842317      39.0"
      ]
     },
     "execution_count": 21,
     "metadata": {},
     "output_type": "execute_result"
    }
   ],
   "source": [
    "data3.columns = ['column_2', 'column_3']\n",
    "data3.head()"
   ]
  },
  {
   "cell_type": "markdown",
   "metadata": {},
   "source": []
  },
  {
   "cell_type": "markdown",
   "metadata": {},
   "source": [
    "# Distributions\n"
   ]
  },
  {
   "cell_type": "markdown",
   "metadata": {},
   "source": [
    "### Normal -- Gaussian"
   ]
  },
  {
   "cell_type": "code",
   "execution_count": null,
   "metadata": {
    "collapsed": true
   },
   "outputs": [],
   "source": []
  },
  {
   "cell_type": "markdown",
   "metadata": {},
   "source": [
    "### Poisson"
   ]
  },
  {
   "cell_type": "code",
   "execution_count": null,
   "metadata": {
    "collapsed": true
   },
   "outputs": [],
   "source": []
  },
  {
   "cell_type": "markdown",
   "metadata": {},
   "source": [
    "### Chi Squared"
   ]
  },
  {
   "cell_type": "code",
   "execution_count": null,
   "metadata": {
    "collapsed": true
   },
   "outputs": [],
   "source": []
  },
  {
   "cell_type": "markdown",
   "metadata": {},
   "source": [
    "# Statistical Tests"
   ]
  },
  {
   "cell_type": "markdown",
   "metadata": {},
   "source": [
    "## Stating the Null Hypothesis:\n",
    "\n",
    "#### Verbally:\n",
    "\n",
    "Null Hypothesis: The mean of A is not different or is significantly greater than the mean of B.  \n",
    "Alternate Hypothesis: The mean of A is significantly less than the mean of B.\n",
    "\n",
    "#### Mathematically:\n",
    "\n",
    "$H_0$: A.mean() >= B.mean()\n",
    "\n",
    "$H_a$: A.mean() < B.mean()\n",
    "\n",
    "### $\\alpha=0.05$\n"
   ]
  },
  {
   "cell_type": "markdown",
   "metadata": {},
   "source": [
    "## T - Test"
   ]
  },
  {
   "cell_type": "code",
   "execution_count": 43,
   "metadata": {
    "collapsed": false
   },
   "outputs": [
    {
     "ename": "NameError",
     "evalue": "name 'df_old' is not defined",
     "output_type": "error",
     "traceback": [
      "\u001b[0;31m\u001b[0m",
      "\u001b[0;31mNameError\u001b[0mTraceback (most recent call last)",
      "\u001b[0;32m<ipython-input-43-d83213fe5808>\u001b[0m in \u001b[0;36m<module>\u001b[0;34m()\u001b[0m\n\u001b[1;32m      1\u001b[0m \u001b[0;31m#t-test to test null hypothesis\u001b[0m\u001b[0;34m\u001b[0m\u001b[0;34m\u001b[0m\u001b[0m\n\u001b[0;32m----> 2\u001b[0;31m \u001b[0mT\u001b[0m \u001b[0;34m=\u001b[0m \u001b[0;34m(\u001b[0m\u001b[0mdf_old\u001b[0m\u001b[0;34m.\u001b[0m\u001b[0mtripduration\u001b[0m\u001b[0;34m.\u001b[0m\u001b[0mmean\u001b[0m\u001b[0;34m(\u001b[0m\u001b[0;34m)\u001b[0m \u001b[0;34m-\u001b[0m \u001b[0mdf_young\u001b[0m\u001b[0;34m.\u001b[0m\u001b[0mtripduration\u001b[0m\u001b[0;34m.\u001b[0m\u001b[0mmean\u001b[0m\u001b[0;34m(\u001b[0m\u001b[0;34m)\u001b[0m\u001b[0;34m)\u001b[0m \u001b[0;34m/\u001b[0m \u001b[0mnp\u001b[0m\u001b[0;34m.\u001b[0m\u001b[0msqrt\u001b[0m\u001b[0;34m(\u001b[0m\u001b[0;34m(\u001b[0m\u001b[0;34m(\u001b[0m\u001b[0;34m(\u001b[0m\u001b[0mdf_old\u001b[0m\u001b[0;34m.\u001b[0m\u001b[0mtripduration\u001b[0m\u001b[0;34m.\u001b[0m\u001b[0mstd\u001b[0m\u001b[0;34m(\u001b[0m\u001b[0;34m)\u001b[0m\u001b[0;34m**\u001b[0m\u001b[0;36m2\u001b[0m\u001b[0;34m)\u001b[0m \u001b[0;34m/\u001b[0m \u001b[0mlen\u001b[0m\u001b[0;34m(\u001b[0m\u001b[0mdf_old\u001b[0m\u001b[0;34m)\u001b[0m\u001b[0;34m)\u001b[0m \u001b[0;34m+\u001b[0m \u001b[0;34m(\u001b[0m\u001b[0;34m(\u001b[0m\u001b[0mdf_young\u001b[0m\u001b[0;34m.\u001b[0m\u001b[0mtripduration\u001b[0m\u001b[0;34m.\u001b[0m\u001b[0mstd\u001b[0m\u001b[0;34m(\u001b[0m\u001b[0;34m)\u001b[0m\u001b[0;34m**\u001b[0m\u001b[0;36m2\u001b[0m\u001b[0;34m)\u001b[0m\u001b[0;34m/\u001b[0m\u001b[0mlen\u001b[0m\u001b[0;34m(\u001b[0m\u001b[0mdf_young\u001b[0m\u001b[0;34m)\u001b[0m\u001b[0;34m)\u001b[0m\u001b[0;34m)\u001b[0m\u001b[0;34m)\u001b[0m\u001b[0;34m\u001b[0m\u001b[0m\n\u001b[0m\u001b[1;32m      3\u001b[0m \u001b[0;32mprint\u001b[0m\u001b[0;34m(\u001b[0m\u001b[0mT\u001b[0m\u001b[0;34m)\u001b[0m\u001b[0;34m\u001b[0m\u001b[0m\n",
      "\u001b[0;31mNameError\u001b[0m: name 'df_old' is not defined"
     ]
    }
   ],
   "source": [
    "#t-test to test null hypothesis\n",
    "T = (df_old.tripduration.mean() - df_young.tripduration.mean()) \\\n",
    "/ np.sqrt((((df_old.tripduration.std()**2) / len(df_old)) + \\\n",
    "((df_young.tripduration.std()**2)/len(df_young))))\n",
    "print(T)"
   ]
  },
  {
   "cell_type": "markdown",
   "metadata": {},
   "source": [
    "## Z - Test"
   ]
  },
  {
   "cell_type": "markdown",
   "metadata": {},
   "source": [
    "Suppose that in a particular geographic region, the mean and standard deviation of scores on a reading test are 100 points, and 12 points, respectively. Our interest is in the scores of 55 students in a particular school who received a mean score of 96. We can ask whether this mean score is significantly lower than the regional mean—that is, are the students in this school comparable to a simple random sample of 55 students from the region as a whole, or are their scores surprisingly low?\n",
    "\n",
    "We begin by calculating the standard error of the mean:\n",
    "\n",
    "${SE} = \\frac{{\\sigma}}{\\sqrt{n}} $\n",
    "\n",
    "Next we calculate the z-score, which is the distance from the sample mean to the population mean in units of the standard error:\n",
    "\n",
    "$z = \\frac{(M - \\mu)}{SE} $"
   ]
  },
  {
   "cell_type": "markdown",
   "metadata": {},
   "source": [
    "## Z - Test - difference in proportions"
   ]
  },
  {
   "cell_type": "markdown",
   "metadata": {},
   "source": [
    "https://localhost:8000/user/gtp232/notebooks/homedirs/gtp232/PUI2016_fb55/HW3_fb55/citibikes_gender.ipynb"
   ]
  },
  {
   "cell_type": "markdown",
   "metadata": {},
   "source": [
    "#### Is the percentage of women that ride on weekends lower or equal to that of man?\n",
    "#### The statistics is: \n",
    "### $z = \\frac{(p_0 - p_1)}{SE} $\n",
    "### $p =\\frac{p_0  n_0 + p_1  n_1}{n_0+n_1}$\n",
    "### $SE = \\sqrt{ p  ( 1 - p )  (\\frac{1}{n_0} + \\frac{1}{n_1}) }$\n",
    "#### and in this notation \n",
    "### $p_0 = \\frac{W_{\\mathrm{weekend}}}{W_{\\mathrm{week}}}$\n",
    "##### and \n",
    "### $p_1 = \\frac{M_{\\mathrm{weekend}}}{M_{\\mathrm{week}}}$"
   ]
  },
  {
   "cell_type": "code",
   "execution_count": null,
   "metadata": {
    "collapsed": true
   },
   "outputs": [],
   "source": []
  },
  {
   "cell_type": "markdown",
   "metadata": {},
   "source": [
    "## Chi Squared Test"
   ]
  },
  {
   "cell_type": "code",
   "execution_count": null,
   "metadata": {
    "collapsed": true
   },
   "outputs": [],
   "source": []
  },
  {
   "cell_type": "markdown",
   "metadata": {},
   "source": [
    "# Goodness of Fit Tests "
   ]
  },
  {
   "cell_type": "markdown",
   "metadata": {
    "collapsed": true
   },
   "source": [
    "## KS Test"
   ]
  },
  {
   "cell_type": "code",
   "execution_count": 39,
   "metadata": {
    "collapsed": false
   },
   "outputs": [
    {
     "name": "stdout",
     "output_type": "stream",
     "text": [
      "('Downloading', '201505')\n",
      "file in place, you can continue\n",
      "('Downloading', '201506')\n",
      "file in place, you can continue\n"
     ]
    }
   ],
   "source": [
    "#get data for may and june 2016\n",
    "datestring = '201505'\n",
    "datestring2 = '201506'\n",
    "getCitiBikeCSV(datestring)\n",
    "getCitiBikeCSV(datestring2)\n",
    "df_may = pd.read_csv(os.getenv(\"PUIDATA\") + \"/\" + datestring + '-citibike-tripdata.csv')\n",
    "df_june = pd.read_csv(os.getenv(\"PUIDATA\") + \"/\" + datestring2 + '-citibike-tripdata.csv')\n",
    "df_1 = df_may.append(df_june, ignore_index=True)\n",
    "df_1['age'] = 2015 - df_1['birth year'][(df_1['usertype'] == 'Subscriber')]\n",
    "df_1 = df_1[['birth year', 'age', 'starttime', 'stoptime', 'usertype']]\n",
    "# dropping NaN values\n",
    "df_1['age'].dropna(inplace= True)\n",
    "#create a normal distribution with citibike params\n",
    "mean_age = df_1.age.mean()\n",
    "std_age = df_1.age.std()\n",
    "hg = sorted(df_1.age)\n",
    "age_normal_dist = stats.norm.pdf(hg, np.mean(hg), np.std(hg))\n",
    "#create a poisson distribution with citibike params\n",
    "age_poisson_dist = np.random.poisson(mean_age, len(df_1))"
   ]
  },
  {
   "cell_type": "code",
   "execution_count": 40,
   "metadata": {
    "collapsed": false
   },
   "outputs": [
    {
     "name": "stdout",
     "output_type": "stream",
     "text": [
      "Ks_2sampResult(statistic=0.9999999999685809, pvalue=0.0)\n"
     ]
    }
   ],
   "source": [
    "#compare normal with actual citibike data with KS test\n",
    "\n",
    "ks = stats.ks_2samp(df_1.age, age_normal_dist)\n",
    "print (ks)"
   ]
  },
  {
   "cell_type": "markdown",
   "metadata": {},
   "source": [
    "From the code above, you can see that the k statistic is large and the pvalue is essentially zero, meaning the null is rejected, and the citibike age distribution is NOT normally distributed at a significance level of 5%."
   ]
  },
  {
   "cell_type": "markdown",
   "metadata": {},
   "source": [
    "## AD Test"
   ]
  },
  {
   "cell_type": "code",
   "execution_count": 41,
   "metadata": {
    "collapsed": false
   },
   "outputs": [
    {
     "name": "stdout",
     "output_type": "stream",
     "text": [
      "AndersonResult(statistic=22174.319962217938, critical_values=array([ 0.576,  0.656,  0.787,  0.918,  1.092]), significance_level=array([ 15. ,  10. ,   5. ,   2.5,   1. ]))\n"
     ]
    }
   ],
   "source": [
    "#compare normal with actual citibike data with AD test\n",
    "ad = stats.anderson(df_1.age, dist='norm')\n",
    "print (ad)"
   ]
  },
  {
   "cell_type": "markdown",
   "metadata": {},
   "source": [
    "From the code above, you can see that the AD statistic is much larger than the critical values at even the 1% level, meaning the null is rejected, and the citibike age distribution is NOT normally distributed at a significance level of 5%."
   ]
  },
  {
   "cell_type": "markdown",
   "metadata": {},
   "source": [
    "# Log Likelihood"
   ]
  },
  {
   "cell_type": "markdown",
   "metadata": {},
   "source": [
    "# Regression"
   ]
  },
  {
   "cell_type": "code",
   "execution_count": 25,
   "metadata": {
    "collapsed": false
   },
   "outputs": [
    {
     "data": {
      "text/plain": [
       "[<matplotlib.lines.Line2D at 0x7fbd16a8d950>]"
      ]
     },
     "execution_count": 25,
     "metadata": {},
     "output_type": "execute_result"
    },
    {
     "data": {
      "image/png": "[encoded data removed]",
      "text/plain": [
       "<matplotlib.figure.Figure at 0x7fbd16aa70d0>"
      ]
     },
     "metadata": {},
     "output_type": "display_data"
    }
   ],
   "source": [
    "linmodel_total_units = smf.ols(formula = 'gross_income ~ total_units',\n",
    "                            data = data_small).fit()\n",
    "\n",
    "linmodel_total_units.summary()\n",
    "pars = linmodel_total_units.params\n",
    "pl.plot(data_small.total_units, pars[0] + pars[1]*data_small.total_units)"
   ]
  },
  {
   "cell_type": "markdown",
   "metadata": {},
   "source": [
    "# Plotting Stuff"
   ]
  },
  {
   "cell_type": "code",
   "execution_count": 34,
   "metadata": {
    "collapsed": false
   },
   "outputs": [
    {
     "data": {
      "text/plain": [
       "<matplotlib.legend.Legend at 0x7fbd14c7e610>"
      ]
     },
     "execution_count": 34,
     "metadata": {},
     "output_type": "execute_result"
    },
    {
     "data": {
      "image/png": "[encoded data removed]",
      "text/plain": [
       "<matplotlib.figure.Figure at 0x7fbd16ece810>"
      ]
     },
     "metadata": {},
     "output_type": "display_data"
    }
   ],
   "source": [
    "\n",
    "#plotting scatterpoint\n",
    "ax = data_small.plot(x = 'total_units', y = 'gross_income', kind = 'scatter', label='data')\n",
    "\n",
    "#plotting labels\n",
    "ax.set_xlabel(\"Total Units\")\n",
    "ax.set_ylabel(\"Gross Income (log scale)\")\n",
    "pl.title('Scatterplot of Total Units vs Gross Income (For Manhattan Condos / Coops)', fontsize=14)\n",
    "\n",
    "\n",
    "#plotting regression line\n",
    "total_units_plot_range = np.linspace(data_small.total_units.min(), data_small.total_units.max(), 100)\n",
    "tmp = pd.DataFrame()\n",
    "tmp['total_units'] = total_units_plot_range\n",
    "\n",
    "### need to pass .predict() a dataframe!\n",
    "gross_income_predicted = linmodel_total_units.predict(tmp)\n",
    "ax.plot(total_units_plot_range, gross_income_predicted, c='r', label='model line')\n",
    "\n",
    "#setting axis limits\n",
    "pl.xlim(0, (data_small.total_units.max()+100))\n",
    "pl.ylim(0, (data_small.gross_income.max()+1000000))\n",
    "\n",
    "#plotting legend\n",
    "ax.legend()"
   ]
  },
  {
   "cell_type": "code",
   "execution_count": null,
   "metadata": {
    "collapsed": true
   },
   "outputs": [],
   "source": []
  }
 ],
 "metadata": {
  "kernelspec": {
   "display_name": "PUI2016_Python2",
   "language": "python",
   "name": "pui2016_python2"
  },
  "language_info": {
   "codemirror_mode": {
    "name": "ipython",
    "version": 2
   },
   "file_extension": ".py",
   "mimetype": "text/x-python",
   "name": "python",
   "nbconvert_exporter": "python",
   "pygments_lexer": "ipython2",
   "version": "2.7.12"
  }
 },
 "nbformat": 4,
 "nbformat_minor": 0
}
